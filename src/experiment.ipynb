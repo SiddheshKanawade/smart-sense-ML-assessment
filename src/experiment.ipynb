{
 "cells": [
  {
   "cell_type": "code",
   "execution_count": 46,
   "metadata": {},
   "outputs": [],
   "source": [
    "DATASET_PATH=\"/home/siddhesh/Desktop/Siddhesh/Job Applications/smart-sense/smart-sense-ML-assessment/data/ML-5/Monthly_data_cmo.csv\""
   ]
  },
  {
   "cell_type": "markdown",
   "metadata": {},
   "source": [
    "## Data Pre-processing and EDA"
   ]
  },
  {
   "cell_type": "code",
   "execution_count": 47,
   "metadata": {},
   "outputs": [],
   "source": [
    "import pandas as pd\n",
    "import numpy as np"
   ]
  },
  {
   "cell_type": "code",
   "execution_count": 48,
   "metadata": {},
   "outputs": [
    {
     "name": "stdout",
     "output_type": "stream",
     "text": [
      "<class 'pandas.core.frame.DataFrame'>\n",
      "RangeIndex: 62429 entries, 0 to 62428\n",
      "Data columns (total 11 columns):\n",
      " #   Column           Non-Null Count  Dtype \n",
      "---  ------           --------------  ----- \n",
      " 0   APMC             62429 non-null  object\n",
      " 1   Commodity        62429 non-null  object\n",
      " 2   Year             62429 non-null  int64 \n",
      " 3   Month            62429 non-null  object\n",
      " 4   arrivals_in_qtl  62429 non-null  int64 \n",
      " 5   min_price        62429 non-null  int64 \n",
      " 6   max_price        62429 non-null  int64 \n",
      " 7   modal_price      62429 non-null  int64 \n",
      " 8   date             62429 non-null  object\n",
      " 9   district_name    62429 non-null  object\n",
      " 10  state_name       62429 non-null  object\n",
      "dtypes: int64(5), object(6)\n",
      "memory usage: 5.2+ MB\n"
     ]
    },
    {
     "data": {
      "text/plain": [
       "((62429, 11), None)"
      ]
     },
     "execution_count": 48,
     "metadata": {},
     "output_type": "execute_result"
    }
   ],
   "source": [
    "data=pd.read_csv(DATASET_PATH)\n",
    "data.shape, data.info()"
   ]
  },
  {
   "cell_type": "markdown",
   "metadata": {},
   "source": [
    "From the above analysis, we can say that we don't have any null values.\n",
    "\n",
    "We will predict the model prices, hence remove min_price, max_price column\n",
    "\n",
    "In the dataset, we can see that the price is determined by the APMC and not by district or state. Also, its important to note that district or state is an larger entity than APMC"
   ]
  },
  {
   "cell_type": "code",
   "execution_count": 49,
   "metadata": {},
   "outputs": [
    {
     "data": {
      "text/plain": [
       "APMC               0\n",
       "Commodity          0\n",
       "Year               0\n",
       "Month              0\n",
       "arrivals_in_qtl    0\n",
       "modal_price        0\n",
       "dtype: int64"
      ]
     },
     "execution_count": 49,
     "metadata": {},
     "output_type": "execute_result"
    }
   ],
   "source": [
    "data.drop(['min_price','max_price','district_name','state_name','date'],axis=1,inplace=True)\n",
    "data=data.dropna()\n",
    "data.isnull().sum()  "
   ]
  },
  {
   "cell_type": "code",
   "execution_count": 50,
   "metadata": {},
   "outputs": [
    {
     "data": {
      "text/plain": [
       "(               Commodity  Year  Month  arrivals_in_qtl  modal_price\n",
       " APMC                                                               \n",
       " Aamgaon               27    27     27               27           27\n",
       " Aarni                 84    84     84               84           84\n",
       " Achalpur             195   195    195              195          195\n",
       " Aheri                209   209    209              209          209\n",
       " Ahmednagar           649   649    649              649          649\n",
       " ...                  ...   ...    ...              ...          ...\n",
       " Washim-Ansing         47    47     47               47           47\n",
       " Yawal                112   112    112              112          112\n",
       " Yeola                192   192    192              192          192\n",
       " Yeotmal              175   175    175              175          175\n",
       " Zarijamini            52    52     52               52           52\n",
       " \n",
       " [349 rows x 5 columns],\n",
       "                  APMC  Year  Month  arrivals_in_qtl  modal_price\n",
       " Commodity                                                       \n",
       " AMBAT CHUKA         2     2      2                2            2\n",
       " AMLA                1     1      1                1            1\n",
       " APPLE              10    10     10               10           10\n",
       " ARVI                2     2      2                2            2\n",
       " AWALA               3     3      3                3            3\n",
       " ...               ...   ...    ...              ...          ...\n",
       " Water Melon       147   147    147              147          147\n",
       " Wheat(Husked)    3946  3946   3946             3946         3946\n",
       " Wheat(Unhusked)   161   161    161              161          161\n",
       " Wood Apple          4     4      4                4            4\n",
       " Zendu              22    22     22               22           22\n",
       " \n",
       " [352 rows x 5 columns])"
      ]
     },
     "execution_count": 50,
     "metadata": {},
     "output_type": "execute_result"
    }
   ],
   "source": [
    "data.groupby('APMC').count(), data.groupby('Commodity').count()"
   ]
  },
  {
   "cell_type": "markdown",
   "metadata": {},
   "source": [
    "### One Hot Encoding"
   ]
  },
  {
   "cell_type": "code",
   "execution_count": 51,
   "metadata": {},
   "outputs": [],
   "source": [
    "from sklearn.preprocessing import OneHotEncoder  \n",
    "\n",
    "data = pd.get_dummies(data, columns=['APMC',\"Commodity\",\"Month\"], prefix = ['APMC',\"commodity\",\"month\"])  "
   ]
  },
  {
   "cell_type": "code",
   "execution_count": 52,
   "metadata": {},
   "outputs": [
    {
     "data": {
      "text/html": [
       "<div>\n",
       "<style scoped>\n",
       "    .dataframe tbody tr th:only-of-type {\n",
       "        vertical-align: middle;\n",
       "    }\n",
       "\n",
       "    .dataframe tbody tr th {\n",
       "        vertical-align: top;\n",
       "    }\n",
       "\n",
       "    .dataframe thead th {\n",
       "        text-align: right;\n",
       "    }\n",
       "</style>\n",
       "<table border=\"1\" class=\"dataframe\">\n",
       "  <thead>\n",
       "    <tr style=\"text-align: right;\">\n",
       "      <th></th>\n",
       "      <th>Year</th>\n",
       "      <th>arrivals_in_qtl</th>\n",
       "      <th>modal_price</th>\n",
       "      <th>APMC_Aamgaon</th>\n",
       "      <th>APMC_Aarni</th>\n",
       "      <th>APMC_Achalpur</th>\n",
       "      <th>APMC_Aheri</th>\n",
       "      <th>APMC_Ahmednagar</th>\n",
       "      <th>APMC_Ahmedpur</th>\n",
       "      <th>APMC_Akhadabalapur</th>\n",
       "      <th>...</th>\n",
       "      <th>month_December</th>\n",
       "      <th>month_February</th>\n",
       "      <th>month_January</th>\n",
       "      <th>month_July</th>\n",
       "      <th>month_June</th>\n",
       "      <th>month_March</th>\n",
       "      <th>month_May</th>\n",
       "      <th>month_November</th>\n",
       "      <th>month_October</th>\n",
       "      <th>month_September</th>\n",
       "    </tr>\n",
       "  </thead>\n",
       "  <tbody>\n",
       "    <tr>\n",
       "      <th>0</th>\n",
       "      <td>2015</td>\n",
       "      <td>79</td>\n",
       "      <td>1463</td>\n",
       "      <td>0</td>\n",
       "      <td>0</td>\n",
       "      <td>0</td>\n",
       "      <td>0</td>\n",
       "      <td>1</td>\n",
       "      <td>0</td>\n",
       "      <td>0</td>\n",
       "      <td>...</td>\n",
       "      <td>0</td>\n",
       "      <td>0</td>\n",
       "      <td>0</td>\n",
       "      <td>0</td>\n",
       "      <td>0</td>\n",
       "      <td>0</td>\n",
       "      <td>0</td>\n",
       "      <td>0</td>\n",
       "      <td>0</td>\n",
       "      <td>0</td>\n",
       "    </tr>\n",
       "    <tr>\n",
       "      <th>1</th>\n",
       "      <td>2016</td>\n",
       "      <td>106</td>\n",
       "      <td>1875</td>\n",
       "      <td>0</td>\n",
       "      <td>0</td>\n",
       "      <td>0</td>\n",
       "      <td>0</td>\n",
       "      <td>1</td>\n",
       "      <td>0</td>\n",
       "      <td>0</td>\n",
       "      <td>...</td>\n",
       "      <td>0</td>\n",
       "      <td>0</td>\n",
       "      <td>0</td>\n",
       "      <td>0</td>\n",
       "      <td>0</td>\n",
       "      <td>0</td>\n",
       "      <td>0</td>\n",
       "      <td>0</td>\n",
       "      <td>0</td>\n",
       "      <td>0</td>\n",
       "    </tr>\n",
       "    <tr>\n",
       "      <th>2</th>\n",
       "      <td>2015</td>\n",
       "      <td>1253</td>\n",
       "      <td>1731</td>\n",
       "      <td>0</td>\n",
       "      <td>0</td>\n",
       "      <td>0</td>\n",
       "      <td>0</td>\n",
       "      <td>1</td>\n",
       "      <td>0</td>\n",
       "      <td>0</td>\n",
       "      <td>...</td>\n",
       "      <td>0</td>\n",
       "      <td>0</td>\n",
       "      <td>0</td>\n",
       "      <td>0</td>\n",
       "      <td>0</td>\n",
       "      <td>0</td>\n",
       "      <td>0</td>\n",
       "      <td>0</td>\n",
       "      <td>0</td>\n",
       "      <td>0</td>\n",
       "    </tr>\n",
       "    <tr>\n",
       "      <th>3</th>\n",
       "      <td>2016</td>\n",
       "      <td>387</td>\n",
       "      <td>1999</td>\n",
       "      <td>0</td>\n",
       "      <td>0</td>\n",
       "      <td>0</td>\n",
       "      <td>0</td>\n",
       "      <td>1</td>\n",
       "      <td>0</td>\n",
       "      <td>0</td>\n",
       "      <td>...</td>\n",
       "      <td>0</td>\n",
       "      <td>0</td>\n",
       "      <td>0</td>\n",
       "      <td>0</td>\n",
       "      <td>0</td>\n",
       "      <td>0</td>\n",
       "      <td>0</td>\n",
       "      <td>0</td>\n",
       "      <td>0</td>\n",
       "      <td>0</td>\n",
       "    </tr>\n",
       "    <tr>\n",
       "      <th>4</th>\n",
       "      <td>2015</td>\n",
       "      <td>3825</td>\n",
       "      <td>1900</td>\n",
       "      <td>0</td>\n",
       "      <td>0</td>\n",
       "      <td>0</td>\n",
       "      <td>0</td>\n",
       "      <td>1</td>\n",
       "      <td>0</td>\n",
       "      <td>0</td>\n",
       "      <td>...</td>\n",
       "      <td>0</td>\n",
       "      <td>0</td>\n",
       "      <td>0</td>\n",
       "      <td>0</td>\n",
       "      <td>0</td>\n",
       "      <td>0</td>\n",
       "      <td>0</td>\n",
       "      <td>0</td>\n",
       "      <td>0</td>\n",
       "      <td>0</td>\n",
       "    </tr>\n",
       "  </tbody>\n",
       "</table>\n",
       "<p>5 rows × 716 columns</p>\n",
       "</div>"
      ],
      "text/plain": [
       "   Year  arrivals_in_qtl  modal_price  APMC_Aamgaon  APMC_Aarni  \\\n",
       "0  2015               79         1463             0           0   \n",
       "1  2016              106         1875             0           0   \n",
       "2  2015             1253         1731             0           0   \n",
       "3  2016              387         1999             0           0   \n",
       "4  2015             3825         1900             0           0   \n",
       "\n",
       "   APMC_Achalpur  APMC_Aheri  APMC_Ahmednagar  APMC_Ahmedpur  \\\n",
       "0              0           0                1              0   \n",
       "1              0           0                1              0   \n",
       "2              0           0                1              0   \n",
       "3              0           0                1              0   \n",
       "4              0           0                1              0   \n",
       "\n",
       "   APMC_Akhadabalapur  ...  month_December  month_February  month_January  \\\n",
       "0                   0  ...               0               0              0   \n",
       "1                   0  ...               0               0              0   \n",
       "2                   0  ...               0               0              0   \n",
       "3                   0  ...               0               0              0   \n",
       "4                   0  ...               0               0              0   \n",
       "\n",
       "   month_July  month_June  month_March  month_May  month_November  \\\n",
       "0           0           0            0          0               0   \n",
       "1           0           0            0          0               0   \n",
       "2           0           0            0          0               0   \n",
       "3           0           0            0          0               0   \n",
       "4           0           0            0          0               0   \n",
       "\n",
       "   month_October  month_September  \n",
       "0              0                0  \n",
       "1              0                0  \n",
       "2              0                0  \n",
       "3              0                0  \n",
       "4              0                0  \n",
       "\n",
       "[5 rows x 716 columns]"
      ]
     },
     "execution_count": 52,
     "metadata": {},
     "output_type": "execute_result"
    }
   ],
   "source": [
    "data.head()"
   ]
  },
  {
   "cell_type": "markdown",
   "metadata": {},
   "source": [
    "### Determining Features for the dataset"
   ]
  },
  {
   "cell_type": "code",
   "execution_count": 53,
   "metadata": {},
   "outputs": [],
   "source": [
    "# Using Min/Max Scaler for the dataset\n",
    "features=data.loc[:, data.columns !='modal_price']\n",
    "label=data['modal_price']  "
   ]
  },
  {
   "cell_type": "markdown",
   "metadata": {},
   "source": [
    "#### Here, we can see that there is significant difference in the magnitude of different features, this may cause the undetermined advantage to the features with more magnitude"
   ]
  },
  {
   "cell_type": "code",
   "execution_count": 55,
   "metadata": {},
   "outputs": [],
   "source": [
    "from sklearn.preprocessing import MinMaxScaler  \n",
    "\n",
    "scaler=MinMaxScaler()  \n",
    "features=scaler.fit_transform(features)  "
   ]
  },
  {
   "cell_type": "code",
   "execution_count": 56,
   "metadata": {},
   "outputs": [
    {
     "data": {
      "text/plain": [
       "array([[5.00000000e-01, 5.37837191e-05, 0.00000000e+00, ...,\n",
       "        0.00000000e+00, 0.00000000e+00, 0.00000000e+00],\n",
       "       [1.00000000e+00, 7.24011603e-05, 0.00000000e+00, ...,\n",
       "        0.00000000e+00, 0.00000000e+00, 0.00000000e+00],\n",
       "       [5.00000000e-01, 8.63297645e-04, 0.00000000e+00, ...,\n",
       "        0.00000000e+00, 0.00000000e+00, 0.00000000e+00],\n",
       "       ...,\n",
       "       [1.00000000e+00, 3.10290687e-05, 0.00000000e+00, ...,\n",
       "        1.00000000e+00, 0.00000000e+00, 0.00000000e+00],\n",
       "       [1.00000000e+00, 1.13773252e-04, 0.00000000e+00, ...,\n",
       "        1.00000000e+00, 0.00000000e+00, 0.00000000e+00],\n",
       "       [1.00000000e+00, 5.03360448e-05, 0.00000000e+00, ...,\n",
       "        1.00000000e+00, 0.00000000e+00, 0.00000000e+00]])"
      ]
     },
     "execution_count": 56,
     "metadata": {},
     "output_type": "execute_result"
    }
   ],
   "source": [
    "features"
   ]
  },
  {
   "cell_type": "code",
   "execution_count": null,
   "metadata": {},
   "outputs": [],
   "source": []
  }
 ],
 "metadata": {
  "kernelspec": {
   "display_name": "mlcourse",
   "language": "python",
   "name": "python3"
  },
  "language_info": {
   "codemirror_mode": {
    "name": "ipython",
    "version": 3
   },
   "file_extension": ".py",
   "mimetype": "text/x-python",
   "name": "python",
   "nbconvert_exporter": "python",
   "pygments_lexer": "ipython3",
   "version": "3.9.15"
  },
  "orig_nbformat": 4
 },
 "nbformat": 4,
 "nbformat_minor": 2
}
